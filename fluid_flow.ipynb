{
 "cells": [
  {
   "cell_type": "code",
   "execution_count": 2,
   "id": "08f5005c-b294-47a6-a14e-2197a65c397c",
   "metadata": {},
   "outputs": [],
   "source": [
    "import numpy as np\n",
    "import scipy.sparse.linalg as splinalg\n",
    "from scipy import interpolate\n",
    "import matplotlib.pyplot as plt"
   ]
  },
  {
   "cell_type": "markdown",
   "id": "e864f4c8-753b-4f4c-a023-d7cc4a689642",
   "metadata": {},
   "source": [
    "Tryng to do fluid flow animation followed the code from:\n",
    "\n",
    "https://medium.com/@zakariatemouch/exploring-fluid-dynamics-using-python-a-numerical-approach-with-navier-stokes-equations-0a00ddae6822\n",
    "\n",
    "https://www.youtube.com/watch?v=wbYe58NGJJI\n",
    "\n",
    "Basically it solves incompressible navier stokes equation\n"
   ]
  },
  {
   "cell_type": "code",
   "execution_count": 2,
   "id": "b1b985ad-c179-4455-83be-5a43863729bd",
   "metadata": {},
   "outputs": [],
   "source": [
    "import cmasher as cmr\n",
    "from tqdm import tqdm"
   ]
  },
  {
   "cell_type": "code",
   "execution_count": 3,
   "id": "7933a06d-894c-4b61-850a-aacd5fb8786c",
   "metadata": {},
   "outputs": [],
   "source": [
    "DOMAIN_SIZE = 1.0\n",
    "N_POINTS = 41\n",
    "N_TIME_STEPS = 100\n",
    "TIME_STEP_LENGTH = 0.1\n",
    "MAX_VISCOSITY = 0.0001\n",
    "MAX_ITER_CG = None\n",
    "\n",
    "def forcing_function(time, point):\n",
    "    time_decay = np.maximum(3.0-0.5*t,\n",
    "                           0.0,)\n",
    "    forced_value = (\n",
    "        time_decay\n",
    "        *\n",
    "        np.where(\n",
    "            (point[0]>0.4)\n",
    "            &\n",
    "            (point[0]<0.6)\n",
    "            &\n",
    "            (point[1]>0.1)\n",
    "            &\n",
    "            (point[1]<0.3)\n",
    "        ),\n",
    "        np.array([0.0,1.0])\n",
    "        np.array([0.0,0.0])\n",
    "    )\n",
    "    return forced_value\n",
    "        \n"
   ]
  },
  {
   "cell_type": "code",
   "execution_count": 4,
   "id": "3627c5f8-09ab-4c5d-8c5d-50d24e55622b",
   "metadata": {},
   "outputs": [],
   "source": [
    "def advec(field, vector_field):\n",
    "    backtraced_positions = np.clip(\n",
    "        (coordinates\n",
    "        -\n",
    "        TIME_STEP_LENGTH\n",
    "        *\n",
    "        vector_field),\n",
    "        0.0,\n",
    "        DOMAIN_SIZE,\n",
    "    )\n",
    "    advected_field = interpolate.interpn(\n",
    "        points = (x,y),\n",
    "        values = field,\n",
    "        xi = backraced_positions,\n",
    "    )"
   ]
  },
  {
   "cell_type": "code",
   "execution_count": null,
   "id": "1a489d88-014c-440b-91a5-e03a2e0b12dd",
   "metadata": {},
   "outputs": [],
   "source": [
    "def main():\n",
    "    element_length = DOMAIN_SIZE/(N_POINTS - 1)\n",
    "    scalar_shape = (N_POINTS, N_POINTS)\n",
    "    scalar_dof = N_POINTS**2\n",
    "    vector_shape = (N_POINTS, N_POINTS, 2)\n",
    "    vector_dof = N_POINTS**2*2\n",
    "    x = np.linspace(0.0, DOMAIN_SIZE, N_POINTS)\n",
    "    y = np.linspace(0.0, DOMAIN_SIZE, N_POINTS)\n",
    "    \n",
    "    X, Y = np.meshgrid(x,y, indexing=\"ij\")\n",
    "    coordinates = np.concatenate(\n",
    "        (\n",
    "            X[..., np.newaxis],\n",
    "            Y[..., np.newaxis],\n",
    "        ), axis=-1,\n",
    "    )\n",
    "    \n",
    "    forcing_function_vectorized = np.vectorized(pyfunc=forcing_function, signature=\"(),(d)->(d)\")\n",
    "    \n",
    "    velocities_prev = np.zeros(vector_shape)\n",
    "    tie_current = 0.0\n",
    "    for i in tqdm(range(B_TIME_STEPS)):\n",
    "        time_current += TIME_STEP_LENGTH\n",
    "        forces = forcing_function_vectorized(\n",
    "            time_current,\n",
    "            coordinates,\n",
    "        )\n",
    "\n",
    "        #APPLY forces\n",
    "        velocities_forces_applied =(\n",
    "            velocities_prev\n",
    "        +\n",
    "            TIME_STEP_LENGTH\n",
    "            *\n",
    "            forces\n",
    "        )\n",
    "        # Non linear convecton\n",
    "        velocities_advected = advect()\n",
    "\n",
    "\n",
    "if __name__ == \"__name__\":\n",
    "    main()"
   ]
  }
 ],
 "metadata": {
  "kernelspec": {
   "display_name": "Python 3 (ipykernel)",
   "language": "python",
   "name": "python3"
  },
  "language_info": {
   "codemirror_mode": {
    "name": "ipython",
    "version": 3
   },
   "file_extension": ".py",
   "mimetype": "text/x-python",
   "name": "python",
   "nbconvert_exporter": "python",
   "pygments_lexer": "ipython3",
   "version": "3.10.12"
  }
 },
 "nbformat": 4,
 "nbformat_minor": 5
}
