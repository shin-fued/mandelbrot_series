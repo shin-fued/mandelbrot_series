{
 "cells": [
  {
   "cell_type": "code",
   "execution_count": null,
   "id": "7b812def-c315-4129-ba80-edf932be9696",
   "metadata": {},
   "outputs": [],
   "source": [
    "import turtle\n",
    "\n",
    "shape(\"arrow\")\n",
    "speed(0)\n",
    "\n",
    "def tree(size, levels, angle):\n",
    "    if levels==0:\n",
    "        color(\"green\")\n",
    "        dot(size)\n",
    "        color(\"black\")\n",
    "        return\n",
    "    forward(size)\n",
    "    right(angle)\n",
    "    tree(size*0.8, levels-1, angle)\n",
    "    left(angle*2)\n",
    "    tree(size*0.8, levels-1, angle)\n",
    "    right(angle)\n",
    "    backward(size)\n",
    "    \n",
    "\n",
    "left(90)\n",
    "tree(70, 6, 30)\n",
    "\n",
    "\n",
    "mainloop()"
   ]
  },
  {
   "cell_type": "code",
   "execution_count": null,
   "id": "db7ca125-249a-4c2c-9186-c06313de206e",
   "metadata": {},
   "outputs": [],
   "source": []
  }
 ],
 "metadata": {
  "kernelspec": {
   "display_name": "Python 3 (ipykernel)",
   "language": "python",
   "name": "python3"
  },
  "language_info": {
   "codemirror_mode": {
    "name": "ipython",
    "version": 3
   },
   "file_extension": ".py",
   "mimetype": "text/x-python",
   "name": "python",
   "nbconvert_exporter": "python",
   "pygments_lexer": "ipython3",
   "version": "3.12.3"
  }
 },
 "nbformat": 4,
 "nbformat_minor": 5
}
